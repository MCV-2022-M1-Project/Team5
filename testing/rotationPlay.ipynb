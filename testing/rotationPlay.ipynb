{
 "cells": [
  {
   "cell_type": "code",
   "execution_count": 1,
   "metadata": {},
   "outputs": [],
   "source": [
    "import os\n",
    "from tqdm import tqdm\n",
    "import cv2\n",
    "import numpy as np"
   ]
  },
  {
   "cell_type": "markdown",
   "metadata": {},
   "source": [
    "Variables to change"
   ]
  },
  {
   "cell_type": "code",
   "execution_count": 12,
   "metadata": {},
   "outputs": [],
   "source": [
    "name_query = 'qsd1_w5'\n",
    "test_image = '10'"
   ]
  },
  {
   "cell_type": "code",
   "execution_count": 3,
   "metadata": {},
   "outputs": [],
   "source": [
    "# Constant arguments\n",
    "name_db = 'BBDD'\n",
    "dir_base = '../../'\n",
    "results_name = 'results'\n",
    "aux_name = 'aux'\n",
    "\n",
    "\n",
    "# Directories assignment (always end with /)\n",
    "dir_db = f'{dir_base}{name_db}/' \n",
    "dir_query = f'{dir_base}{name_query}/'\n",
    "dir_museum = f'{dir_base}museum/'\n",
    "dir_results = f'{dir_query}{results_name}/'\n",
    "dir_db_aux = f'{dir_db}{aux_name}/'\n",
    "dir_query_aux = f'{dir_query}{aux_name}/'\n",
    "dir_aux = f'{dir_base}{aux_name}/'\n",
    "new_dirs = [dir_results, dir_db_aux, dir_query_aux, dir_aux]\n",
    "\n",
    "for dir in new_dirs:\n",
    "    try:\n",
    "        os.makedirs(dir)\n",
    "    except FileExistsError:\n",
    "        # Directory already exists\n",
    "        pass"
   ]
  },
  {
   "cell_type": "code",
   "execution_count": 4,
   "metadata": {},
   "outputs": [],
   "source": [
    "def ssim(img1, img2) -> float:\n",
    "    \"\"\"\n",
    "    It takes two images, calculates the mean of the squared difference between the two images, and then\n",
    "    divides that by the mean of the squared difference between the two images\n",
    "    \n",
    "    :param img1: The first image being compared\n",
    "    :param img2: The image to be compared to the original image\n",
    "    :return: The mean of the ssim_map\n",
    "    \"\"\"\n",
    "    C1 = (0.01 * 255)**2\n",
    "    C2 = (0.03 * 255)**2\n",
    "\n",
    "    img1 = img1.astype(np.float64)\n",
    "    img2 = img2.astype(np.float64)\n",
    "    kernel = cv2.getGaussianKernel(11, 1.5)\n",
    "    window = np.outer(kernel, kernel.transpose())\n",
    "\n",
    "    mu1 = cv2.filter2D(img1, -1, window)[5:-5, 5:-5]  # valid\n",
    "    mu2 = cv2.filter2D(img2, -1, window)[5:-5, 5:-5]\n",
    "    mu1_sq = mu1**2\n",
    "    mu2_sq = mu2**2\n",
    "    mu1_mu2 = mu1 * mu2\n",
    "    sigma1_sq = cv2.filter2D(img1**2, -1, window)[5:-5, 5:-5] - mu1_sq\n",
    "    sigma2_sq = cv2.filter2D(img2**2, -1, window)[5:-5, 5:-5] - mu2_sq\n",
    "    sigma12 = cv2.filter2D(img1 * img2, -1, window)[5:-5, 5:-5] - mu1_mu2\n",
    "\n",
    "    ssim_map = ((2 * mu1_mu2 + C1) * (2 * sigma12 + C2)) / ((mu1_sq + mu2_sq + C1) * (sigma1_sq + sigma2_sq + C2))\n",
    "    \n",
    "    return ssim_map.mean()\n",
    "\n",
    "def calculate_ssim(img1, img2) -> float:\n",
    "    '''calculate SSIM\n",
    "    the same outputs as MATLAB's\n",
    "    img1, img2: [0, 255]\n",
    "    '''\n",
    "    if not img1.shape == img2.shape:\n",
    "        raise ValueError('Input images must have the same dimensions.')\n",
    "    if img1.ndim == 2:\n",
    "        return ssim(img1, img2)\n",
    "    elif img1.ndim == 3:\n",
    "        if img1.shape[2] == 3:\n",
    "            ssims = []\n",
    "            for i in range(3):\n",
    "                ssims.append(ssim(img1, img2))\n",
    "            return np.array(ssims).mean()\n",
    "        elif img1.shape[2] == 1:\n",
    "            return ssim(np.squeeze(img1), np.squeeze(img2))\n",
    "    else:\n",
    "        raise ValueError('Wrong input image dimensions.')\n",
    "\n",
    "def noise_ckeck_removal(image, f_name):\n",
    "    \"\"\"\n",
    "    It takes an image and a file name as input, and returns the same image if the similarity between the\n",
    "    original image and the denoised image is greater than 0.65, otherwise it returns the denoised image\n",
    "    \n",
    "    :param image: The image to be denoised\n",
    "    :param f_name: The name of the image file\n",
    "    :return: The image is being returned.\n",
    "    \"\"\"\n",
    "    image_denoised = cv2.medianBlur(image, 3)\n",
    "    ssim = calculate_ssim(image, image_denoised)\n",
    "    if(ssim < 0.65):\n",
    "        cv2.imwrite(dir_query + dir_query_aux + f_name + '_denoised.png', image_denoised)\n",
    "        return image_denoised\n",
    "    return image"
   ]
  },
  {
   "cell_type": "code",
   "execution_count": 5,
   "metadata": {},
   "outputs": [],
   "source": [
    "def get_avg_corners_color(image):\n",
    "    # Get average color of the image corners\n",
    "    # top left\n",
    "    avg_color_per_row = np.average(image[0:10, 0:10], axis=0)\n",
    "    avg_color = np.average(avg_color_per_row, axis=0)\n",
    "    avg_color_tl = avg_color\n",
    "    # top right\n",
    "    avg_color_per_row = np.average(image[0:10, image.shape[1]-10:image.shape[1]], axis=0)\n",
    "    avg_color = np.average(avg_color_per_row, axis=0)\n",
    "    avg_color_tr = avg_color\n",
    "    # bottom left\n",
    "    avg_color_per_row = np.average(image[image.shape[0]-10:image.shape[0], 0:10], axis=0)\n",
    "    avg_color = np.average(avg_color_per_row, axis=0)\n",
    "    avg_color_bl = avg_color\n",
    "    # bottom right\n",
    "    avg_color_per_row = np.average(image[image.shape[0]-10:image.shape[0], image.shape[1]-10:image.shape[1]], axis=0)\n",
    "    avg_color = np.average(avg_color_per_row, axis=0)\n",
    "    avg_color_br = avg_color\n",
    "    # Get the average color of the corners\n",
    "    avg_color_corners = (avg_color_tl + avg_color_tr + avg_color_bl + avg_color_br) / 4\n",
    "    return avg_color_corners"
   ]
  },
  {
   "cell_type": "code",
   "execution_count": 6,
   "metadata": {},
   "outputs": [],
   "source": [
    "def rotation_check(image, f_name):\n",
    "    # Applying hough to detect lines\n",
    "    image_cpy = image.copy()\n",
    "\n",
    "    # Keep only clear edges of the image\n",
    "    edges = cv2.Canny(image, 225, 250)\n",
    "\n",
    "    # edges = cv2.Canny(image, 50, 150, apertureSize = 3)\n",
    "    lines = cv2.HoughLinesP(edges, 1, np.pi / 180, 200)\n",
    "\n",
    "    # See result of canny\n",
    "    cv2.imwrite(dir_aux + f_name + '_canny.png', edges)\n",
    "\n",
    "    # Get length of the lines\n",
    "    # lengths = []\n",
    "    angles = []\n",
    "\n",
    "    # If there are no lines detected, return the original image\n",
    "    if lines is None:\n",
    "        return image, False, 0\n",
    "\n",
    "    for line in lines:\n",
    "        rho, theta = line[0]\n",
    "        # Allow only from 315 to 45 degrees and 135 to 225 degrees (but we considere horizontal is pi / 2)\n",
    "        if (theta > 0.25 * np.pi and theta < 0.75 * np.pi) or (theta > 1.25 * np.pi and theta < 1.75 * np.pi):\n",
    "            a = np.cos(theta)\n",
    "            b = np.sin(theta)\n",
    "            x0 = a * rho\n",
    "            y0 = b * rho\n",
    "            pt1 = (int(x0 + 1000 * (-b)), int(y0 + 1000 * (a)))\n",
    "            pt2 = (int(x0 - 1000 * (-b)), int(y0 - 1000 * (a)))\n",
    "            # lengths.append(np.sqrt((pt1[0] - pt2[0]) ** 2 + (pt1[1] - pt2[1]) ** 2))\n",
    "            angles.append(theta)\n",
    "            cv2.line(image_cpy, pt1, pt2, (0, 0, 255), 2)\n",
    "    \n",
    "\n",
    "    cv2.imwrite(dir_aux + f_name + '_lines.png', image_cpy)\n",
    "    # Get the longest line and its angle\n",
    "\n",
    "    # print(lengths)\n",
    "    print(angles)\n",
    "    # Check if angles is empty\n",
    "    if not angles:\n",
    "        return image, False, 0\n",
    "    \n",
    "    # Get the most repeated angle\n",
    "    angle = max(set(angles), key = angles.count)\n",
    "    # Substract pi / 2 to get the angle of the line\n",
    "    angle = angle - np.pi / 2\n",
    "    # Get the angle in degrees\n",
    "    angle_deg = angle * 180 / np.pi\n",
    "    print(angle_deg)\n",
    "    # Get the rotation matrix\n",
    "    M = cv2.getRotationMatrix2D((image.shape[1] / 2, image.shape[0] / 2), angle_deg, 1)\n",
    "    # Rotate the image\n",
    "    rotated_image = cv2.warpAffine(image, M, (image.shape[1], image.shape[0]), borderValue=get_avg_corners_color(image))\n",
    "    # Save the rotated image\n",
    "    cv2.imwrite(dir_aux + f_name + '_rotated.png', rotated_image)\n",
    "    # Print the angle in degrees in a file\n",
    "    # with open(dir_aux + f_name + '_angle.txt', 'w') as f:\n",
    "    #     f.write(str(angle_deg))\n",
    "    return rotated_image, M, angle"
   ]
  },
  {
   "cell_type": "code",
   "execution_count": 34,
   "metadata": {},
   "outputs": [],
   "source": [
    "def auto_canny(image, sigma=0.33):\n",
    "\t# compute the median of the single channel pixel intensities\n",
    "\tv = np.median(image)\n",
    "\t# apply automatic Canny edge detection using the computed median\n",
    "\tlower = int(max(0, (1.0 - sigma) * v))\n",
    "\tupper = int(min(255, (1.0 + sigma) * v))\n",
    "\tedged = cv2.Canny(image, lower, upper)\n",
    "\t# return the edged image\n",
    "\treturn edged\n",
    "\n",
    "def rotation_check_prob(image, f_name):\n",
    "    # Applying hough to detect lines\n",
    "    image_cpy = image.copy()\n",
    "    height, width = image.shape[:2]\n",
    "\n",
    "    edges = auto_canny(image)\n",
    "    lines = cv2.HoughLinesP(edges, rho = 1, theta = 1*np.pi/180, threshold = 200, minLineLength = 100, maxLineGap = 25)\n",
    "\n",
    "    # Save result of canny\n",
    "    cv2.imwrite(dir_aux + f_name + '_canny.png', edges)\n",
    "\n",
    "    # If there are no lines detected, return the original image\n",
    "    if lines is None:\n",
    "        return image, False, 0, None\n",
    "    \n",
    "    # Get length of the lines\n",
    "    final_length, final_angle, final_line = None, None, None\n",
    "    for line in lines:\n",
    "        x1, y1, x2, y2 = line[0]\n",
    "        if  (y1 < height / 3 and y2 < height / 3) or (y1 > 2 * height / 3 and y2 > 2 * height / 3):\n",
    "            # Get angle on radians\n",
    "            angle = np.arctan2(y2 - y1, x2 - x1)\n",
    "            length = np.sqrt((x2 - x1) ** 2 + (y2 - y1) ** 2)\n",
    "            \n",
    "            # Plot lines in different colors for each part (range from -pi to pi)\n",
    "            if (angle <= np.pi / 4 and angle >= - np.pi / 4) or (angle >= 3 * np.pi / 4 or angle <= - 3 * np.pi / 4):\n",
    "                color = (0, 255, 0)\n",
    "                if final_angle == None or length > final_length:\n",
    "                    final_angle = angle\n",
    "                    final_length = length\n",
    "                    final_line = [(x1, y1), (x2, y2)]\n",
    "            else:\n",
    "                color = (0, 0, 255)\n",
    "            cv2.line(image_cpy, (x1, y1), (x2, y2), color, 2)\n",
    "\n",
    "    if final_line:\n",
    "        cv2.line(image_cpy, final_line[0], final_line[1], (255, 0, 0), 5)\n",
    "\n",
    "    cv2.imwrite(dir_aux + f_name + '_lines.png', image_cpy)\n",
    "\n",
    "    # Check if angles is empty\n",
    "    if not final_angle:\n",
    "        return image, False, 0, None\n",
    "    \n",
    "    # Get the angle in degrees considering range pi to -pi\n",
    "    angle_deg = final_angle * 180 / np.pi\n",
    "\n",
    "    print(angle_deg)\n",
    "    # Get the rotation matrix\n",
    "    M = cv2.getRotationMatrix2D((image.shape[1] / 2, image.shape[0] / 2), angle_deg, 1)\n",
    "    # Rotate the image\n",
    "\n",
    "    # Transform the image to BGRA to avoid black borders\n",
    "    image = cv2.cvtColor(image, cv2.COLOR_BGR2BGRA)\n",
    "    # rotated_image = cv2.warpAffine(image, M, (image.shape[1], image.shape[0]), borderValue=get_avg_corners_color(image))\n",
    "    rotated_image = cv2.warpAffine(image, M, (image.shape[1], image.shape[0]), borderValue=cv2.BORDER_TRANSPARENT)\n",
    "    # Save the rotated image\n",
    "    cv2.imwrite(dir_aux + f_name + '_rotated.png', rotated_image)\n",
    "    # Create a mask for the transparent pixels\n",
    "    rotatation_mask = rotated_image[:,:,3] == 0\n",
    "    # Format the mask to be binary\n",
    "    rotatation_mask = rotatation_mask.astype(np.uint8) * 255\n",
    "    cv2.imwrite(dir_aux + f_name + '_rotated_mask.png', rotatation_mask)\n",
    "    \n",
    "    # Transform the image back to BGR\n",
    "    rotated_image = cv2.cvtColor(rotated_image, cv2.COLOR_BGRA2BGR)\n",
    "\n",
    "    return rotated_image, M, final_angle, rotatation_mask"
   ]
  },
  {
   "cell_type": "markdown",
   "metadata": {},
   "source": [
    "For 1 image"
   ]
  },
  {
   "cell_type": "code",
   "execution_count": 35,
   "metadata": {},
   "outputs": [
    {
     "name": "stdout",
     "output_type": "stream",
     "text": [
      "5.075452378478986\n"
     ]
    }
   ],
   "source": [
    "f = f'{dir_query}000{test_image}.jpg'\n",
    "f_name = f.split('/')[-1].split('.')[0]\n",
    "image = cv2.imread(f)\n",
    "\n",
    "image = noise_ckeck_removal(image,f_name)\n",
    "cv2.imwrite(dir_aux + f_name + '_pre_rotation.png', image)\n",
    "image, rotation_matrix, angle, rotatation_mask = rotation_check_prob(image, f_name)"
   ]
  },
  {
   "cell_type": "markdown",
   "metadata": {},
   "source": [
    "For all the query"
   ]
  },
  {
   "cell_type": "code",
   "execution_count": 36,
   "metadata": {},
   "outputs": [
    {
     "name": "stderr",
     "output_type": "stream",
     "text": [
      "0it [00:00, ?it/s]"
     ]
    },
    {
     "name": "stdout",
     "output_type": "stream",
     "text": [
      "-1.0230301886678357\n"
     ]
    },
    {
     "name": "stderr",
     "output_type": "stream",
     "text": [
      "4it [00:11,  2.29s/it]"
     ]
    },
    {
     "name": "stdout",
     "output_type": "stream",
     "text": [
      "-1.0470647719990624\n"
     ]
    },
    {
     "name": "stderr",
     "output_type": "stream",
     "text": [
      "7it [00:17,  2.08s/it]"
     ]
    },
    {
     "name": "stdout",
     "output_type": "stream",
     "text": [
      "-1.010997052330402\n"
     ]
    },
    {
     "name": "stderr",
     "output_type": "stream",
     "text": [
      "22it [00:38,  1.80s/it]"
     ]
    },
    {
     "name": "stdout",
     "output_type": "stream",
     "text": [
      "-1.0006978778588334\n"
     ]
    },
    {
     "name": "stderr",
     "output_type": "stream",
     "text": [
      "25it [00:39,  1.34s/it]"
     ]
    },
    {
     "name": "stdout",
     "output_type": "stream",
     "text": [
      "-12.037202320365749\n"
     ]
    },
    {
     "name": "stderr",
     "output_type": "stream",
     "text": [
      "28it [00:41,  1.12s/it]"
     ]
    },
    {
     "name": "stdout",
     "output_type": "stream",
     "text": [
      "-1.9986055052964269\n"
     ]
    },
    {
     "name": "stderr",
     "output_type": "stream",
     "text": [
      "31it [00:42,  1.08it/s]"
     ]
    },
    {
     "name": "stdout",
     "output_type": "stream",
     "text": [
      "5.075452378478986\n",
      "2.96093613416375\n"
     ]
    },
    {
     "name": "stderr",
     "output_type": "stream",
     "text": [
      "34it [00:51,  1.56s/it]"
     ]
    },
    {
     "name": "stdout",
     "output_type": "stream",
     "text": [
      "-1.0041075435927656\n"
     ]
    },
    {
     "name": "stderr",
     "output_type": "stream",
     "text": [
      "40it [00:58,  1.26s/it]"
     ]
    },
    {
     "name": "stdout",
     "output_type": "stream",
     "text": [
      "0.9677420765110459\n"
     ]
    },
    {
     "name": "stderr",
     "output_type": "stream",
     "text": [
      "58it [01:26,  1.41s/it]"
     ]
    },
    {
     "name": "stdout",
     "output_type": "stream",
     "text": [
      "-26.888752701998214\n"
     ]
    },
    {
     "name": "stderr",
     "output_type": "stream",
     "text": [
      "61it [01:30,  1.36s/it]"
     ]
    },
    {
     "name": "stdout",
     "output_type": "stream",
     "text": [
      "2.0315997816741773\n"
     ]
    },
    {
     "name": "stderr",
     "output_type": "stream",
     "text": [
      "64it [01:32,  1.10s/it]"
     ]
    },
    {
     "name": "stdout",
     "output_type": "stream",
     "text": [
      "0.9793196543394875\n"
     ]
    },
    {
     "name": "stderr",
     "output_type": "stream",
     "text": [
      "67it [01:36,  1.23s/it]"
     ]
    },
    {
     "name": "stdout",
     "output_type": "stream",
     "text": [
      "0.9963478965049255\n"
     ]
    },
    {
     "name": "stderr",
     "output_type": "stream",
     "text": [
      "76it [01:58,  1.89s/it]"
     ]
    },
    {
     "name": "stdout",
     "output_type": "stream",
     "text": [
      "-24.936927333911754\n"
     ]
    },
    {
     "name": "stderr",
     "output_type": "stream",
     "text": [
      "82it [02:03,  1.26s/it]"
     ]
    },
    {
     "name": "stdout",
     "output_type": "stream",
     "text": [
      "3.9049174436943694\n"
     ]
    },
    {
     "name": "stderr",
     "output_type": "stream",
     "text": [
      "97it [02:08,  1.33s/it]\n"
     ]
    }
   ],
   "source": [
    "for filename in tqdm(os.scandir(dir_query)):\n",
    "    f = filename.path\n",
    "    f_name = f.split('/')[-1].split('.')[0]\n",
    "    if f.endswith('.jpg'): \n",
    "        image = cv2.imread(f)\n",
    "\n",
    "        image = noise_ckeck_removal(image,f_name)\n",
    "        cv2.imwrite(dir_aux + f_name + '_pre_rotation.png', image)\n",
    "        image, rotation_matrix, angle, rotatation_mask = rotation_check_prob(image, f_name)\n"
   ]
  }
 ],
 "metadata": {
  "kernelspec": {
   "display_name": "Python 3.9.13 ('cvm1')",
   "language": "python",
   "name": "python3"
  },
  "language_info": {
   "codemirror_mode": {
    "name": "ipython",
    "version": 3
   },
   "file_extension": ".py",
   "mimetype": "text/x-python",
   "name": "python",
   "nbconvert_exporter": "python",
   "pygments_lexer": "ipython3",
   "version": "3.9.13"
  },
  "orig_nbformat": 4,
  "vscode": {
   "interpreter": {
    "hash": "3bb2c78baab52889689b24abd7ba438749f90aab4ab8189e50b2d66920af10a9"
   }
  }
 },
 "nbformat": 4,
 "nbformat_minor": 2
}

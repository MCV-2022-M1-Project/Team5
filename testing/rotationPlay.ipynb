{
 "cells": [
  {
   "cell_type": "code",
   "execution_count": 3,
   "metadata": {},
   "outputs": [],
   "source": [
    "import os\n",
    "from tqdm import tqdm\n",
    "import cv2\n",
    "import numpy as np"
   ]
  },
  {
   "cell_type": "markdown",
   "metadata": {},
   "source": [
    "Variables to change"
   ]
  },
  {
   "cell_type": "code",
   "execution_count": 85,
   "metadata": {},
   "outputs": [],
   "source": [
    "name_query = 'qsd1_w5'\n",
    "test_image = '19'"
   ]
  },
  {
   "cell_type": "code",
   "execution_count": 86,
   "metadata": {},
   "outputs": [],
   "source": [
    "# Constant arguments\n",
    "name_db = 'BBDD'\n",
    "dir_base = '../../'\n",
    "results_name = 'results'\n",
    "aux_name = 'aux'\n",
    "\n",
    "\n",
    "# Directories assignment (always end with /)\n",
    "dir_db = f'{dir_base}{name_db}/' \n",
    "dir_query = f'{dir_base}{name_query}/'\n",
    "dir_museum = f'{dir_base}museum/'\n",
    "dir_results = f'{dir_query}{results_name}/'\n",
    "dir_db_aux = f'{dir_db}{aux_name}/'\n",
    "dir_query_aux = f'{dir_query}{aux_name}/'\n",
    "dir_aux = f'{dir_base}{aux_name}/'\n",
    "new_dirs = [dir_results, dir_db_aux, dir_query_aux, dir_aux]\n",
    "\n",
    "for dir in new_dirs:\n",
    "    try:\n",
    "        os.makedirs(dir)\n",
    "    except FileExistsError:\n",
    "        # Directory already exists\n",
    "        pass"
   ]
  },
  {
   "cell_type": "code",
   "execution_count": 6,
   "metadata": {},
   "outputs": [],
   "source": [
    "def ssim(img1, img2) -> float:\n",
    "    \"\"\"\n",
    "    It takes two images, calculates the mean of the squared difference between the two images, and then\n",
    "    divides that by the mean of the squared difference between the two images\n",
    "    \n",
    "    :param img1: The first image being compared\n",
    "    :param img2: The image to be compared to the original image\n",
    "    :return: The mean of the ssim_map\n",
    "    \"\"\"\n",
    "    C1 = (0.01 * 255)**2\n",
    "    C2 = (0.03 * 255)**2\n",
    "\n",
    "    img1 = img1.astype(np.float64)\n",
    "    img2 = img2.astype(np.float64)\n",
    "    kernel = cv2.getGaussianKernel(11, 1.5)\n",
    "    window = np.outer(kernel, kernel.transpose())\n",
    "\n",
    "    mu1 = cv2.filter2D(img1, -1, window)[5:-5, 5:-5]  # valid\n",
    "    mu2 = cv2.filter2D(img2, -1, window)[5:-5, 5:-5]\n",
    "    mu1_sq = mu1**2\n",
    "    mu2_sq = mu2**2\n",
    "    mu1_mu2 = mu1 * mu2\n",
    "    sigma1_sq = cv2.filter2D(img1**2, -1, window)[5:-5, 5:-5] - mu1_sq\n",
    "    sigma2_sq = cv2.filter2D(img2**2, -1, window)[5:-5, 5:-5] - mu2_sq\n",
    "    sigma12 = cv2.filter2D(img1 * img2, -1, window)[5:-5, 5:-5] - mu1_mu2\n",
    "\n",
    "    ssim_map = ((2 * mu1_mu2 + C1) * (2 * sigma12 + C2)) / ((mu1_sq + mu2_sq + C1) * (sigma1_sq + sigma2_sq + C2))\n",
    "    \n",
    "    return ssim_map.mean()\n",
    "\n",
    "def calculate_ssim(img1, img2) -> float:\n",
    "    '''calculate SSIM\n",
    "    the same outputs as MATLAB's\n",
    "    img1, img2: [0, 255]\n",
    "    '''\n",
    "    if not img1.shape == img2.shape:\n",
    "        raise ValueError('Input images must have the same dimensions.')\n",
    "    if img1.ndim == 2:\n",
    "        return ssim(img1, img2)\n",
    "    elif img1.ndim == 3:\n",
    "        if img1.shape[2] == 3:\n",
    "            ssims = []\n",
    "            for i in range(3):\n",
    "                ssims.append(ssim(img1, img2))\n",
    "            return np.array(ssims).mean()\n",
    "        elif img1.shape[2] == 1:\n",
    "            return ssim(np.squeeze(img1), np.squeeze(img2))\n",
    "    else:\n",
    "        raise ValueError('Wrong input image dimensions.')\n",
    "\n",
    "def noise_ckeck_removal(image, f_name):\n",
    "    \"\"\"\n",
    "    It takes an image and a file name as input, and returns the same image if the similarity between the\n",
    "    original image and the denoised image is greater than 0.65, otherwise it returns the denoised image\n",
    "    \n",
    "    :param image: The image to be denoised\n",
    "    :param f_name: The name of the image file\n",
    "    :return: The image is being returned.\n",
    "    \"\"\"\n",
    "    image_denoised = cv2.medianBlur(image, 3)\n",
    "    ssim = calculate_ssim(image, image_denoised)\n",
    "    if(ssim < 0.65):\n",
    "        cv2.imwrite(dir_query + dir_query_aux + f_name + '_denoised.png', image_denoised)\n",
    "        return image_denoised\n",
    "    return image"
   ]
  },
  {
   "cell_type": "code",
   "execution_count": 7,
   "metadata": {},
   "outputs": [],
   "source": [
    "def get_avg_corners_color(image):\n",
    "    # Get average color of the image corners\n",
    "    # top left\n",
    "    avg_color_per_row = np.average(image[0:10, 0:10], axis=0)\n",
    "    avg_color = np.average(avg_color_per_row, axis=0)\n",
    "    avg_color_tl = avg_color\n",
    "    # top right\n",
    "    avg_color_per_row = np.average(image[0:10, image.shape[1]-10:image.shape[1]], axis=0)\n",
    "    avg_color = np.average(avg_color_per_row, axis=0)\n",
    "    avg_color_tr = avg_color\n",
    "    # bottom left\n",
    "    avg_color_per_row = np.average(image[image.shape[0]-10:image.shape[0], 0:10], axis=0)\n",
    "    avg_color = np.average(avg_color_per_row, axis=0)\n",
    "    avg_color_bl = avg_color\n",
    "    # bottom right\n",
    "    avg_color_per_row = np.average(image[image.shape[0]-10:image.shape[0], image.shape[1]-10:image.shape[1]], axis=0)\n",
    "    avg_color = np.average(avg_color_per_row, axis=0)\n",
    "    avg_color_br = avg_color\n",
    "    # Get the average color of the corners\n",
    "    avg_color_corners = (avg_color_tl + avg_color_tr + avg_color_bl + avg_color_br) / 4\n",
    "    return avg_color_corners"
   ]
  },
  {
   "cell_type": "code",
   "execution_count": 8,
   "metadata": {},
   "outputs": [],
   "source": [
    "def rotation_check(image, f_name):\n",
    "    # Applying hough to detect lines\n",
    "    image_cpy = image.copy()\n",
    "\n",
    "    # Keep only clear edges of the image\n",
    "    edges = cv2.Canny(image, 225, 250)\n",
    "\n",
    "    # edges = cv2.Canny(image, 50, 150, apertureSize = 3)\n",
    "    lines = cv2.HoughLinesP(edges, 1, np.pi / 180, 200)\n",
    "\n",
    "    # See result of canny\n",
    "    cv2.imwrite(dir_aux + f_name + '_canny.png', edges)\n",
    "\n",
    "    # Get length of the lines\n",
    "    # lengths = []\n",
    "    angles = []\n",
    "\n",
    "    # If there are no lines detected, return the original image\n",
    "    if lines is None:\n",
    "        return image, False, 0\n",
    "\n",
    "    for line in lines:\n",
    "        rho, theta = line[0]\n",
    "        # Allow only from 315 to 45 degrees and 135 to 225 degrees (but we considere horizontal is pi / 2)\n",
    "        if (theta > 0.25 * np.pi and theta < 0.75 * np.pi) or (theta > 1.25 * np.pi and theta < 1.75 * np.pi):\n",
    "            a = np.cos(theta)\n",
    "            b = np.sin(theta)\n",
    "            x0 = a * rho\n",
    "            y0 = b * rho\n",
    "            pt1 = (int(x0 + 1000 * (-b)), int(y0 + 1000 * (a)))\n",
    "            pt2 = (int(x0 - 1000 * (-b)), int(y0 - 1000 * (a)))\n",
    "            # lengths.append(np.sqrt((pt1[0] - pt2[0]) ** 2 + (pt1[1] - pt2[1]) ** 2))\n",
    "            angles.append(theta)\n",
    "            cv2.line(image_cpy, pt1, pt2, (0, 0, 255), 2)\n",
    "    \n",
    "\n",
    "    cv2.imwrite(dir_aux + f_name + '_lines.png', image_cpy)\n",
    "    # Get the longest line and its angle\n",
    "\n",
    "    # print(lengths)\n",
    "    print(angles)\n",
    "    # Check if angles is empty\n",
    "    if not angles:\n",
    "        return image, False, 0\n",
    "    \n",
    "    # Get the most repeated angle\n",
    "    angle = max(set(angles), key = angles.count)\n",
    "    # Substract pi / 2 to get the angle of the line\n",
    "    angle = angle - np.pi / 2\n",
    "    # Get the angle in degrees\n",
    "    angle_deg = angle * 180 / np.pi\n",
    "    print(angle_deg)\n",
    "    # Get the rotation matrix\n",
    "    M = cv2.getRotationMatrix2D((image.shape[1] / 2, image.shape[0] / 2), angle_deg, 1)\n",
    "    # Rotate the image\n",
    "    rotated_image = cv2.warpAffine(image, M, (image.shape[1], image.shape[0]), borderValue=get_avg_corners_color(image))\n",
    "    # Save the rotated image\n",
    "    cv2.imwrite(dir_aux + f_name + '_rotated.png', rotated_image)\n",
    "    # Print the angle in degrees in a file\n",
    "    # with open(dir_aux + f_name + '_angle.txt', 'w') as f:\n",
    "    #     f.write(str(angle_deg))\n",
    "    return rotated_image, M, angle"
   ]
  },
  {
   "cell_type": "code",
   "execution_count": 104,
   "metadata": {},
   "outputs": [],
   "source": [
    "def auto_canny(image, sigma=0.33):\n",
    "\t# compute the median of the single channel pixel intensities\n",
    "\tv = np.median(image)\n",
    "\t# apply automatic Canny edge detection using the computed median\n",
    "\tlower = int(max(0, (1.0 - sigma) * v))\n",
    "\tupper = int(min(255, (1.0 + sigma) * v))\n",
    "\tedged = cv2.Canny(image, lower, upper)\n",
    "\t# return the edged image\n",
    "\treturn edged\n",
    "\n",
    "def rotation_check_prob(image, f_name):\n",
    "    # Applying hough to detect lines\n",
    "    image_cpy = image.copy()\n",
    "    height, width = image.shape[:2]\n",
    "\n",
    "    # edges = auto_canny(image)\n",
    "    # Apply a tight cannny to detect edges\n",
    "    edges = cv2.Canny(image, 200, 250)\n",
    "\n",
    "    lines = cv2.HoughLinesP(edges, rho = 1, theta = 1*np.pi/180, threshold = 150, minLineLength = 100, maxLineGap = width)\n",
    "\n",
    "    # Save result of canny\n",
    "    cv2.imwrite(dir_aux + f_name + '_canny.png', edges)\n",
    "\n",
    "    # If there are no lines detected, return the original image\n",
    "    if lines is None:\n",
    "        return image, False, 0, None\n",
    "    \n",
    "    # Get length of the lines\n",
    "    final_length, final_angle, final_line = None, None, None\n",
    "    min_height = height\n",
    "    for line in lines:\n",
    "        x1, y1, x2, y2 = line[0]\n",
    "        if  (y1 < height / 3 or y2 < height / 3) or (y1 > 2 * height / 3 or y2 > 2 * height / 3):\n",
    "            # Get angle on radians\n",
    "            angle = np.arctan2(y2 - y1, x2 - x1)\n",
    "            length = np.sqrt((x2 - x1) ** 2 + (y2 - y1) ** 2)\n",
    "            mean_height = (y1 + y2) / 2\n",
    "            \n",
    "            # Plot lines in different colors for each part (range from -pi to pi)\n",
    "            if (angle <= np.pi / 4 and angle >= - np.pi / 4) or (angle >= 3 * np.pi / 4 or angle <= - 3 * np.pi / 4):\n",
    "                color = (0, 255, 0)\n",
    "                if final_angle == None or mean_height < min_height:# length > final_length:\n",
    "                    final_angle = angle\n",
    "                    final_length = length\n",
    "                    min_height = mean_height\n",
    "                    final_line = [(x1, y1), (x2, y2)]\n",
    "            else:\n",
    "                color = (0, 0, 255)\n",
    "            cv2.line(image_cpy, (x1, y1), (x2, y2), color, 2)\n",
    "\n",
    "    if final_line:\n",
    "        cv2.line(image_cpy, final_line[0], final_line[1], (255, 0, 0), 5)\n",
    "\n",
    "    cv2.imwrite(dir_aux + f_name + '_lines.png', image_cpy)\n",
    "\n",
    "    # Check if angles is empty\n",
    "    if not final_angle:\n",
    "        return image, False, 0, None\n",
    "    \n",
    "    # Get the angle in degrees considering range pi to -pi\n",
    "    angle_deg = final_angle * 180 / np.pi\n",
    "\n",
    "    print(angle_deg)\n",
    "    # Get the rotation matrix\n",
    "    M = cv2.getRotationMatrix2D((image.shape[1] / 2, image.shape[0] / 2), angle_deg, 1)\n",
    "    # Rotate the image\n",
    "\n",
    "    # Transform the image to BGRA to avoid black borders\n",
    "    image = cv2.cvtColor(image, cv2.COLOR_BGR2BGRA)\n",
    "    # rotated_image = cv2.warpAffine(image, M, (image.shape[1], image.shape[0]), borderValue=get_avg_corners_color(image))\n",
    "    rotated_image = cv2.warpAffine(image, M, (image.shape[1], image.shape[0]), borderValue=cv2.BORDER_TRANSPARENT)\n",
    "    # Save the rotated image\n",
    "    cv2.imwrite(dir_aux + f_name + '_rotated.png', rotated_image)\n",
    "    # Create a mask for the transparent pixels\n",
    "    rotatation_mask = rotated_image[:,:,3] == 0\n",
    "    # Format the mask to be binary\n",
    "    rotatation_mask = rotatation_mask.astype(np.uint8) * 255\n",
    "    cv2.imwrite(dir_aux + f_name + '_rotated_mask.png', rotatation_mask)\n",
    "    \n",
    "    # Transform the image back to BGR\n",
    "    rotated_image = cv2.cvtColor(rotated_image, cv2.COLOR_BGRA2BGR)\n",
    "\n",
    "    return rotated_image, M, final_angle, rotatation_mask"
   ]
  },
  {
   "cell_type": "markdown",
   "metadata": {},
   "source": [
    "For 1 image"
   ]
  },
  {
   "cell_type": "code",
   "execution_count": 102,
   "metadata": {},
   "outputs": [],
   "source": [
    "name_query = 'qsd1_w5'\n",
    "test_image = '28'"
   ]
  },
  {
   "cell_type": "code",
   "execution_count": 103,
   "metadata": {},
   "outputs": [],
   "source": [
    "f = f'{dir_query}000{test_image}.jpg'\n",
    "f_name = f.split('/')[-1].split('.')[0]\n",
    "image = cv2.imread(f)\n",
    "\n",
    "image = noise_ckeck_removal(image,f_name)\n",
    "cv2.imwrite(dir_aux + f_name + '_pre_rotation.png', image)\n",
    "image, rotation_matrix, angle, rotatation_mask = rotation_check_prob(image, f_name)"
   ]
  },
  {
   "cell_type": "markdown",
   "metadata": {},
   "source": [
    "For all the query"
   ]
  },
  {
   "cell_type": "code",
   "execution_count": 105,
   "metadata": {},
   "outputs": [
    {
     "name": "stderr",
     "output_type": "stream",
     "text": [
      "4it [00:10,  2.08s/it]"
     ]
    },
    {
     "name": "stdout",
     "output_type": "stream",
     "text": [
      "-1.8830186182090713\n",
      "-0.9979253257527998\n"
     ]
    },
    {
     "name": "stderr",
     "output_type": "stream",
     "text": [
      "10it [00:17,  1.25s/it]"
     ]
    },
    {
     "name": "stdout",
     "output_type": "stream",
     "text": [
      "-45.0\n"
     ]
    },
    {
     "name": "stderr",
     "output_type": "stream",
     "text": [
      "16it [00:18,  1.55it/s]"
     ]
    },
    {
     "name": "stdout",
     "output_type": "stream",
     "text": [
      "1.0243364624242344\n"
     ]
    },
    {
     "name": "stderr",
     "output_type": "stream",
     "text": [
      "25it [00:37,  1.28s/it]"
     ]
    },
    {
     "name": "stdout",
     "output_type": "stream",
     "text": [
      "-12.994616791916505\n"
     ]
    },
    {
     "name": "stderr",
     "output_type": "stream",
     "text": [
      "28it [00:39,  1.09s/it]"
     ]
    },
    {
     "name": "stdout",
     "output_type": "stream",
     "text": [
      "-2.0016308076669347\n"
     ]
    },
    {
     "name": "stderr",
     "output_type": "stream",
     "text": [
      "31it [00:40,  1.09it/s]"
     ]
    },
    {
     "name": "stdout",
     "output_type": "stream",
     "text": [
      "5.053826050064366\n",
      "1.013035244593391\n"
     ]
    },
    {
     "name": "stderr",
     "output_type": "stream",
     "text": [
      "34it [00:49,  1.51s/it]"
     ]
    },
    {
     "name": "stdout",
     "output_type": "stream",
     "text": [
      "-1.0274771945295478\n"
     ]
    },
    {
     "name": "stderr",
     "output_type": "stream",
     "text": [
      "40it [00:56,  1.22s/it]"
     ]
    },
    {
     "name": "stdout",
     "output_type": "stream",
     "text": [
      "1.032244691565731\n"
     ]
    },
    {
     "name": "stderr",
     "output_type": "stream",
     "text": [
      "48it [01:05,  1.37s/it]\n"
     ]
    },
    {
     "ename": "KeyboardInterrupt",
     "evalue": "",
     "output_type": "error",
     "traceback": [
      "\u001b[1;31m---------------------------------------------------------------------------\u001b[0m",
      "\u001b[1;31mKeyboardInterrupt\u001b[0m                         Traceback (most recent call last)",
      "\u001b[1;32mc:\\Users\\angel\\OneDrive\\Escritorio\\MCV\\M1\\PR\\Team5\\testing\\rotationPlay.ipynb Celda 13\u001b[0m in \u001b[0;36m<cell line: 1>\u001b[1;34m()\u001b[0m\n\u001b[0;32m      <a href='vscode-notebook-cell:/c%3A/Users/angel/OneDrive/Escritorio/MCV/M1/PR/Team5/testing/rotationPlay.ipynb#X14sZmlsZQ%3D%3D?line=3'>4</a>\u001b[0m \u001b[39mif\u001b[39;00m f\u001b[39m.\u001b[39mendswith(\u001b[39m'\u001b[39m\u001b[39m.jpg\u001b[39m\u001b[39m'\u001b[39m): \n\u001b[0;32m      <a href='vscode-notebook-cell:/c%3A/Users/angel/OneDrive/Escritorio/MCV/M1/PR/Team5/testing/rotationPlay.ipynb#X14sZmlsZQ%3D%3D?line=4'>5</a>\u001b[0m     image \u001b[39m=\u001b[39m cv2\u001b[39m.\u001b[39mimread(f)\n\u001b[1;32m----> <a href='vscode-notebook-cell:/c%3A/Users/angel/OneDrive/Escritorio/MCV/M1/PR/Team5/testing/rotationPlay.ipynb#X14sZmlsZQ%3D%3D?line=6'>7</a>\u001b[0m     image \u001b[39m=\u001b[39m noise_ckeck_removal(image,f_name)\n\u001b[0;32m      <a href='vscode-notebook-cell:/c%3A/Users/angel/OneDrive/Escritorio/MCV/M1/PR/Team5/testing/rotationPlay.ipynb#X14sZmlsZQ%3D%3D?line=7'>8</a>\u001b[0m     cv2\u001b[39m.\u001b[39mimwrite(dir_aux \u001b[39m+\u001b[39m f_name \u001b[39m+\u001b[39m \u001b[39m'\u001b[39m\u001b[39m_pre_rotation.png\u001b[39m\u001b[39m'\u001b[39m, image)\n\u001b[0;32m      <a href='vscode-notebook-cell:/c%3A/Users/angel/OneDrive/Escritorio/MCV/M1/PR/Team5/testing/rotationPlay.ipynb#X14sZmlsZQ%3D%3D?line=8'>9</a>\u001b[0m     image, rotation_matrix, angle, rotatation_mask \u001b[39m=\u001b[39m rotation_check_prob(image, f_name)\n",
      "\u001b[1;32mc:\\Users\\angel\\OneDrive\\Escritorio\\MCV\\M1\\PR\\Team5\\testing\\rotationPlay.ipynb Celda 13\u001b[0m in \u001b[0;36mnoise_ckeck_removal\u001b[1;34m(image, f_name)\u001b[0m\n\u001b[0;32m     <a href='vscode-notebook-cell:/c%3A/Users/angel/OneDrive/Escritorio/MCV/M1/PR/Team5/testing/rotationPlay.ipynb#X14sZmlsZQ%3D%3D?line=51'>52</a>\u001b[0m \u001b[39m\"\"\"\u001b[39;00m\n\u001b[0;32m     <a href='vscode-notebook-cell:/c%3A/Users/angel/OneDrive/Escritorio/MCV/M1/PR/Team5/testing/rotationPlay.ipynb#X14sZmlsZQ%3D%3D?line=52'>53</a>\u001b[0m \u001b[39mIt takes an image and a file name as input, and returns the same image if the similarity between the\u001b[39;00m\n\u001b[0;32m     <a href='vscode-notebook-cell:/c%3A/Users/angel/OneDrive/Escritorio/MCV/M1/PR/Team5/testing/rotationPlay.ipynb#X14sZmlsZQ%3D%3D?line=53'>54</a>\u001b[0m \u001b[39moriginal image and the denoised image is greater than 0.65, otherwise it returns the denoised image\u001b[39;00m\n\u001b[1;32m   (...)\u001b[0m\n\u001b[0;32m     <a href='vscode-notebook-cell:/c%3A/Users/angel/OneDrive/Escritorio/MCV/M1/PR/Team5/testing/rotationPlay.ipynb#X14sZmlsZQ%3D%3D?line=57'>58</a>\u001b[0m \u001b[39m:return: The image is being returned.\u001b[39;00m\n\u001b[0;32m     <a href='vscode-notebook-cell:/c%3A/Users/angel/OneDrive/Escritorio/MCV/M1/PR/Team5/testing/rotationPlay.ipynb#X14sZmlsZQ%3D%3D?line=58'>59</a>\u001b[0m \u001b[39m\"\"\"\u001b[39;00m\n\u001b[0;32m     <a href='vscode-notebook-cell:/c%3A/Users/angel/OneDrive/Escritorio/MCV/M1/PR/Team5/testing/rotationPlay.ipynb#X14sZmlsZQ%3D%3D?line=59'>60</a>\u001b[0m image_denoised \u001b[39m=\u001b[39m cv2\u001b[39m.\u001b[39mmedianBlur(image, \u001b[39m3\u001b[39m)\n\u001b[1;32m---> <a href='vscode-notebook-cell:/c%3A/Users/angel/OneDrive/Escritorio/MCV/M1/PR/Team5/testing/rotationPlay.ipynb#X14sZmlsZQ%3D%3D?line=60'>61</a>\u001b[0m ssim \u001b[39m=\u001b[39m calculate_ssim(image, image_denoised)\n\u001b[0;32m     <a href='vscode-notebook-cell:/c%3A/Users/angel/OneDrive/Escritorio/MCV/M1/PR/Team5/testing/rotationPlay.ipynb#X14sZmlsZQ%3D%3D?line=61'>62</a>\u001b[0m \u001b[39mif\u001b[39;00m(ssim \u001b[39m<\u001b[39m \u001b[39m0.65\u001b[39m):\n\u001b[0;32m     <a href='vscode-notebook-cell:/c%3A/Users/angel/OneDrive/Escritorio/MCV/M1/PR/Team5/testing/rotationPlay.ipynb#X14sZmlsZQ%3D%3D?line=62'>63</a>\u001b[0m     cv2\u001b[39m.\u001b[39mimwrite(dir_query \u001b[39m+\u001b[39m dir_query_aux \u001b[39m+\u001b[39m f_name \u001b[39m+\u001b[39m \u001b[39m'\u001b[39m\u001b[39m_denoised.png\u001b[39m\u001b[39m'\u001b[39m, image_denoised)\n",
      "\u001b[1;32mc:\\Users\\angel\\OneDrive\\Escritorio\\MCV\\M1\\PR\\Team5\\testing\\rotationPlay.ipynb Celda 13\u001b[0m in \u001b[0;36mcalculate_ssim\u001b[1;34m(img1, img2)\u001b[0m\n\u001b[0;32m     <a href='vscode-notebook-cell:/c%3A/Users/angel/OneDrive/Escritorio/MCV/M1/PR/Team5/testing/rotationPlay.ipynb#X14sZmlsZQ%3D%3D?line=41'>42</a>\u001b[0m     ssims \u001b[39m=\u001b[39m []\n\u001b[0;32m     <a href='vscode-notebook-cell:/c%3A/Users/angel/OneDrive/Escritorio/MCV/M1/PR/Team5/testing/rotationPlay.ipynb#X14sZmlsZQ%3D%3D?line=42'>43</a>\u001b[0m     \u001b[39mfor\u001b[39;00m i \u001b[39min\u001b[39;00m \u001b[39mrange\u001b[39m(\u001b[39m3\u001b[39m):\n\u001b[1;32m---> <a href='vscode-notebook-cell:/c%3A/Users/angel/OneDrive/Escritorio/MCV/M1/PR/Team5/testing/rotationPlay.ipynb#X14sZmlsZQ%3D%3D?line=43'>44</a>\u001b[0m         ssims\u001b[39m.\u001b[39mappend(ssim(img1, img2))\n\u001b[0;32m     <a href='vscode-notebook-cell:/c%3A/Users/angel/OneDrive/Escritorio/MCV/M1/PR/Team5/testing/rotationPlay.ipynb#X14sZmlsZQ%3D%3D?line=44'>45</a>\u001b[0m     \u001b[39mreturn\u001b[39;00m np\u001b[39m.\u001b[39marray(ssims)\u001b[39m.\u001b[39mmean()\n\u001b[0;32m     <a href='vscode-notebook-cell:/c%3A/Users/angel/OneDrive/Escritorio/MCV/M1/PR/Team5/testing/rotationPlay.ipynb#X14sZmlsZQ%3D%3D?line=45'>46</a>\u001b[0m \u001b[39melif\u001b[39;00m img1\u001b[39m.\u001b[39mshape[\u001b[39m2\u001b[39m] \u001b[39m==\u001b[39m \u001b[39m1\u001b[39m:\n",
      "\u001b[1;32mc:\\Users\\angel\\OneDrive\\Escritorio\\MCV\\M1\\PR\\Team5\\testing\\rotationPlay.ipynb Celda 13\u001b[0m in \u001b[0;36mssim\u001b[1;34m(img1, img2)\u001b[0m\n\u001b[0;32m     <a href='vscode-notebook-cell:/c%3A/Users/angel/OneDrive/Escritorio/MCV/M1/PR/Team5/testing/rotationPlay.ipynb#X14sZmlsZQ%3D%3D?line=14'>15</a>\u001b[0m kernel \u001b[39m=\u001b[39m cv2\u001b[39m.\u001b[39mgetGaussianKernel(\u001b[39m11\u001b[39m, \u001b[39m1.5\u001b[39m)\n\u001b[0;32m     <a href='vscode-notebook-cell:/c%3A/Users/angel/OneDrive/Escritorio/MCV/M1/PR/Team5/testing/rotationPlay.ipynb#X14sZmlsZQ%3D%3D?line=15'>16</a>\u001b[0m window \u001b[39m=\u001b[39m np\u001b[39m.\u001b[39mouter(kernel, kernel\u001b[39m.\u001b[39mtranspose())\n\u001b[1;32m---> <a href='vscode-notebook-cell:/c%3A/Users/angel/OneDrive/Escritorio/MCV/M1/PR/Team5/testing/rotationPlay.ipynb#X14sZmlsZQ%3D%3D?line=17'>18</a>\u001b[0m mu1 \u001b[39m=\u001b[39m cv2\u001b[39m.\u001b[39;49mfilter2D(img1, \u001b[39m-\u001b[39;49m\u001b[39m1\u001b[39;49m, window)[\u001b[39m5\u001b[39m:\u001b[39m-\u001b[39m\u001b[39m5\u001b[39m, \u001b[39m5\u001b[39m:\u001b[39m-\u001b[39m\u001b[39m5\u001b[39m]  \u001b[39m# valid\u001b[39;00m\n\u001b[0;32m     <a href='vscode-notebook-cell:/c%3A/Users/angel/OneDrive/Escritorio/MCV/M1/PR/Team5/testing/rotationPlay.ipynb#X14sZmlsZQ%3D%3D?line=18'>19</a>\u001b[0m mu2 \u001b[39m=\u001b[39m cv2\u001b[39m.\u001b[39mfilter2D(img2, \u001b[39m-\u001b[39m\u001b[39m1\u001b[39m, window)[\u001b[39m5\u001b[39m:\u001b[39m-\u001b[39m\u001b[39m5\u001b[39m, \u001b[39m5\u001b[39m:\u001b[39m-\u001b[39m\u001b[39m5\u001b[39m]\n\u001b[0;32m     <a href='vscode-notebook-cell:/c%3A/Users/angel/OneDrive/Escritorio/MCV/M1/PR/Team5/testing/rotationPlay.ipynb#X14sZmlsZQ%3D%3D?line=19'>20</a>\u001b[0m mu1_sq \u001b[39m=\u001b[39m mu1\u001b[39m*\u001b[39m\u001b[39m*\u001b[39m\u001b[39m2\u001b[39m\n",
      "\u001b[1;31mKeyboardInterrupt\u001b[0m: "
     ]
    }
   ],
   "source": [
    "for filename in tqdm(os.scandir(dir_query)):\n",
    "    f = filename.path\n",
    "    f_name = f.split('/')[-1].split('.')[0]\n",
    "    if f.endswith('.jpg'): \n",
    "        image = cv2.imread(f)\n",
    "\n",
    "        image = noise_ckeck_removal(image,f_name)\n",
    "        cv2.imwrite(dir_aux + f_name + '_pre_rotation.png', image)\n",
    "        image, rotation_matrix, angle, rotatation_mask = rotation_check_prob(image, f_name)\n"
   ]
  }
 ],
 "metadata": {
  "kernelspec": {
   "display_name": "Python 3.9.13 ('cvm1')",
   "language": "python",
   "name": "python3"
  },
  "language_info": {
   "codemirror_mode": {
    "name": "ipython",
    "version": 3
   },
   "file_extension": ".py",
   "mimetype": "text/x-python",
   "name": "python",
   "nbconvert_exporter": "python",
   "pygments_lexer": "ipython3",
   "version": "3.9.13"
  },
  "orig_nbformat": 4,
  "vscode": {
   "interpreter": {
    "hash": "3bb2c78baab52889689b24abd7ba438749f90aab4ab8189e50b2d66920af10a9"
   }
  }
 },
 "nbformat": 4,
 "nbformat_minor": 2
}
